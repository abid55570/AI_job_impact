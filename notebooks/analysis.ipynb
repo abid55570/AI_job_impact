{
 "cells": [
  {
   "cell_type": "code",
   "execution_count": 5,
   "id": "1dfc6507",
   "metadata": {},
   "outputs": [
    {
     "name": "stdout",
     "output_type": "stream",
     "text": [
      "               Job Title       Industry  Job Status AI Impact Level  \\\n",
      "0     Investment analyst             IT  Increasing        Moderate   \n",
      "1  Journalist, newspaper  Manufacturing  Increasing        Moderate   \n",
      "2      Financial planner        Finance  Increasing             Low   \n",
      "3        Legal secretary     Healthcare  Increasing            High   \n",
      "4  Aeronautical engineer             IT  Increasing             Low   \n",
      "\n",
      "   Median Salary (USD) Required Education  Experience Required (Years)  \\\n",
      "0             42109.76    Master’s Degree                            5   \n",
      "1            132298.57    Master’s Degree                           15   \n",
      "2            143279.19  Bachelor’s Degree                            4   \n",
      "3             97576.13   Associate Degree                           15   \n",
      "4             60956.63    Master’s Degree                           13   \n",
      "\n",
      "   Job Openings (2024)  Projected Openings (2030)  Remote Work Ratio (%)  \\\n",
      "0                 1515                       6342                  55.96   \n",
      "1                 1243                       6205                  16.81   \n",
      "2                 3338                       1154                  91.82   \n",
      "3                 7173                       4060                   1.89   \n",
      "4                 5944                       7396                  53.76   \n",
      "\n",
      "   Automation Risk (%)   Location  Gender Diversity (%)  \n",
      "0                28.28         UK                 44.63  \n",
      "1                89.71        USA                 66.39  \n",
      "2                72.97     Canada                 41.13  \n",
      "3                99.94  Australia                 65.76  \n",
      "4                37.65    Germany                 72.57  \n",
      "<class 'pandas.core.frame.DataFrame'>\n",
      "RangeIndex: 30000 entries, 0 to 29999\n",
      "Data columns (total 13 columns):\n",
      " #   Column                       Non-Null Count  Dtype  \n",
      "---  ------                       --------------  -----  \n",
      " 0   Job Title                    30000 non-null  object \n",
      " 1   Industry                     30000 non-null  object \n",
      " 2   Job Status                   30000 non-null  object \n",
      " 3   AI Impact Level              30000 non-null  object \n",
      " 4   Median Salary (USD)          30000 non-null  float64\n",
      " 5   Required Education           30000 non-null  object \n",
      " 6   Experience Required (Years)  30000 non-null  int64  \n",
      " 7   Job Openings (2024)          30000 non-null  int64  \n",
      " 8   Projected Openings (2030)    30000 non-null  int64  \n",
      " 9   Remote Work Ratio (%)        30000 non-null  float64\n",
      " 10  Automation Risk (%)          30000 non-null  float64\n",
      " 11  Location                     30000 non-null  object \n",
      " 12  Gender Diversity (%)         30000 non-null  float64\n",
      "dtypes: float64(4), int64(3), object(6)\n",
      "memory usage: 3.0+ MB\n",
      "None\n",
      "                  Job Title       Industry  Job Status AI Impact Level  \\\n",
      "count                 30000          30000       30000           30000   \n",
      "unique                  639              8           2               3   \n",
      "top     Surveyor, insurance  Entertainment  Increasing        Moderate   \n",
      "freq                     75           3895       15136           10042   \n",
      "mean                    NaN            NaN         NaN             NaN   \n",
      "std                     NaN            NaN         NaN             NaN   \n",
      "min                     NaN            NaN         NaN             NaN   \n",
      "25%                     NaN            NaN         NaN             NaN   \n",
      "50%                     NaN            NaN         NaN             NaN   \n",
      "75%                     NaN            NaN         NaN             NaN   \n",
      "max                     NaN            NaN         NaN             NaN   \n",
      "\n",
      "        Median Salary (USD) Required Education  Experience Required (Years)  \\\n",
      "count          30000.000000              30000                 30000.000000   \n",
      "unique                  NaN                  5                          NaN   \n",
      "top                     NaN  Bachelor’s Degree                          NaN   \n",
      "freq                    NaN               6146                          NaN   \n",
      "mean           90119.965639                NaN                    10.051433   \n",
      "std            34412.013953                NaN                     6.060678   \n",
      "min            30001.860000                NaN                     0.000000   \n",
      "25%            60500.702500                NaN                     5.000000   \n",
      "50%            90274.115000                NaN                    10.000000   \n",
      "75%           119454.710000                NaN                    15.000000   \n",
      "max           149998.500000                NaN                    20.000000   \n",
      "\n",
      "        Job Openings (2024)  Projected Openings (2030)  Remote Work Ratio (%)  \\\n",
      "count          30000.000000               30000.000000           30000.000000   \n",
      "unique                  NaN                        NaN                    NaN   \n",
      "top                     NaN                        NaN                    NaN   \n",
      "freq                    NaN                        NaN                    NaN   \n",
      "mean            5039.640833                5074.218100              49.836431   \n",
      "std             2861.009654                2866.550722              28.966688   \n",
      "min              100.000000                 100.000000               0.000000   \n",
      "25%             2570.000000                2586.750000              24.570000   \n",
      "50%             5034.000000                5106.500000              49.570000   \n",
      "75%             7527.000000                7573.000000              75.100000   \n",
      "max            10000.000000               10000.000000             100.000000   \n",
      "\n",
      "        Automation Risk (%)   Location  Gender Diversity (%)  \n",
      "count          30000.000000      30000          30000.000000  \n",
      "unique                  NaN          8                   NaN  \n",
      "top                     NaN  Australia                   NaN  \n",
      "freq                    NaN       3802                   NaN  \n",
      "mean              50.154229        NaN             49.979660  \n",
      "std               28.754889        NaN             17.274665  \n",
      "min                0.000000        NaN             20.000000  \n",
      "25%               25.400000        NaN             35.070000  \n",
      "50%               50.020000        NaN             49.885000  \n",
      "75%               75.030000        NaN             64.910000  \n",
      "max               99.990000        NaN             80.000000  \n"
     ]
    }
   ],
   "source": [
    "import pandas as pd\n",
    "import numpy as np\n",
    "import matplotlib.pyplot as plt\n",
    "import seaborn as sns\n",
    "\n",
    "# Load data\n",
    "df = pd.read_csv('../data/raw_dataset.csv')\n",
    "\n",
    "# Initial inspection\n",
    "print(df.head())\n",
    "print(df.info())\n",
    "print(df.describe(include='all'))"
   ]
  },
  {
   "cell_type": "code",
   "execution_count": 6,
   "id": "3055804d",
   "metadata": {},
   "outputs": [
    {
     "name": "stdout",
     "output_type": "stream",
     "text": [
      "Job Title                      0\n",
      "Industry                       0\n",
      "Job Status                     0\n",
      "AI Impact Level                0\n",
      "Median Salary (USD)            0\n",
      "Required Education             0\n",
      "Experience Required (Years)    0\n",
      "Job Openings (2024)            0\n",
      "Projected Openings (2030)      0\n",
      "Remote Work Ratio (%)          0\n",
      "Automation Risk (%)            0\n",
      "Location                       0\n",
      "Gender Diversity (%)           0\n",
      "dtype: int64\n",
      "Duplicate rows: 0\n"
     ]
    }
   ],
   "source": [
    "# Check for missing values\n",
    "print(df.isnull().sum())\n",
    "\n",
    "# Handle missing values (example)\n",
    "df['Gender Diversity (%)'] = df['Gender Diversity (%)'].fillna(df['Gender Diversity (%)'].median())\n",
    "\n",
    "# Check for duplicates\n",
    "print(f\"Duplicate rows: {df.duplicated().sum()}\")\n",
    "\n",
    "# Standardize categorical variables\n",
    "df['AI Impact Level'] = df['AI Impact Level'].str.title()\n",
    "df['Job Status'] = df['Job Status'].str.title()"
   ]
  },
  {
   "cell_type": "code",
   "execution_count": 7,
   "id": "71a586a1",
   "metadata": {},
   "outputs": [
    {
     "name": "stdout",
     "output_type": "stream",
     "text": [
      "Missing Data (%):\n",
      " Series([], dtype: float64)\n"
     ]
    },
    {
     "data": {
      "image/png": "[encoded data removed]",
      "text/plain": [
       "<Figure size 1000x400 with 1 Axes>"
      ]
     },
     "metadata": {},
     "output_type": "display_data"
    }
   ],
   "source": [
    "# Check missing values per column\n",
    "missing = df.isnull().sum() / len(df) * 100\n",
    "missing = missing[missing > 0].sort_values(ascending=False)\n",
    "print(\"Missing Data (%):\\n\", missing)\n",
    "\n",
    "# Visualize missingness\n",
    "plt.figure(figsize=(10, 4))\n",
    "sns.barplot(x=missing.index, y=missing.values)\n",
    "plt.xticks(rotation=45)\n",
    "plt.title(\"Percentage of Missing Values by Column\")\n",
    "plt.show()"
   ]
  },
  {
   "cell_type": "code",
   "execution_count": 9,
   "id": "f6801aea",
   "metadata": {},
   "outputs": [
    {
     "data": {
      "image/png": "[encoded data removed]",
      "text/plain": [
       "<Figure size 1200x600 with 1 Axes>"
      ]
     },
     "metadata": {},
     "output_type": "display_data"
    },
    {
     "name": "stdout",
     "output_type": "stream",
     "text": [
      "Found 0 salary outliers (e.g., CEOs, interns).\n"
     ]
    }
   ],
   "source": [
    "# Boxplot for numerical columns\n",
    "num_cols = ['Median Salary (USD)', 'Automation Risk (%)', 'Remote Work Ratio (%)']\n",
    "plt.figure(figsize=(12, 6))\n",
    "sns.boxplot(data=df[num_cols], orient=\"h\")\n",
    "plt.title(\"Outlier Detection in Key Numerical Columns\")\n",
    "plt.show()\n",
    "\n",
    "# Use IQR to detect extreme outliers\n",
    "Q1 = df['Median Salary (USD)'].quantile(0.25)\n",
    "Q3 = df['Median Salary (USD)'].quantile(0.75)\n",
    "IQR = Q3 - Q1\n",
    "lower_bound = Q1 - 1.5 * IQR\n",
    "upper_bound = Q3 + 1.5 * IQR\n",
    "outliers = df[(df['Median Salary (USD)'] < lower_bound) | (df['Median Salary (USD)'] > upper_bound)]\n",
    "print(f\"Found {len(outliers)} salary outliers (e.g., CEOs, interns).\")"
   ]
  },
  {
   "cell_type": "code",
   "execution_count": 10,
   "id": "5703d119",
   "metadata": {},
   "outputs": [],
   "source": [
    "# Create a 'Future Growth' feature (Projected Openings vs Current)\n",
    "df['Growth_Rate'] = (df['Projected Openings (2030)'] - df['Job Openings (2024)']) / df['Job Openings (2024)']\n",
    "\n",
    "# Bin automation risk into categories\n",
    "df['Risk_Category'] = pd.cut(df['Automation Risk (%)'], \n",
    "                             bins=[0, 30, 70, 100], \n",
    "                             labels=['Low', 'Medium', 'High'])\n",
    "\n",
    "# Extract seniority from job titles (e.g., \"Senior Data Analyst\" → \"Senior\")\n",
    "df['Seniority'] = df['Job Title'].apply(lambda x: 'Senior' if 'Senior' in x else \n",
    "                                       'Junior' if 'Junior' in x else 'Regular')"
   ]
  },
  {
   "cell_type": "markdown",
   "id": "1464900f",
   "metadata": {},
   "source": [
    "EDA in next file"
   ]
  },
  {
   "cell_type": "code",
   "execution_count": 14,
   "id": "993a1744",
   "metadata": {},
   "outputs": [
    {
     "name": "stdout",
     "output_type": "stream",
     "text": [
      "Cleaned data saved successfully!\n"
     ]
    }
   ],
   "source": [
    "df.to_csv('../data/cleaned_jobs_data.csv', index=False)\n",
    "\n",
    "# Optional: Save as pickle for faster loading and preserving data types\n",
    "df.to_pickle('../data/cleaned_jobs_data.pkl')\n",
    "\n",
    "print(\"Cleaned data saved successfully!\")"
   ]
  },
  {
   "cell_type": "code",
   "execution_count": null,
   "id": "7c82f961",
   "metadata": {},
   "outputs": [],
   "source": []
  }
 ],
 "metadata": {
  "kernelspec": {
   "display_name": "Python 3",
   "language": "python",
   "name": "python3"
  },
  "language_info": {
   "codemirror_mode": {
    "name": "ipython",
    "version": 3
   },
   "file_extension": ".py",
   "mimetype": "text/x-python",
   "name": "python",
   "nbconvert_exporter": "python",
   "pygments_lexer": "ipython3",
   "version": "3.12.1"
  }
 },
 "nbformat": 4,
 "nbformat_minor": 5
}
